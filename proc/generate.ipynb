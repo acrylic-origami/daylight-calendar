{
 "cells": [
  {
   "cell_type": "code",
   "execution_count": 1,
   "id": "freelance-philadelphia",
   "metadata": {},
   "outputs": [],
   "source": [
    "import astral\n",
    "from astral.sun import sun, sunrise, sunset\n",
    "from astral.geocoder import database, lookup\n",
    "from astral import LocationInfo\n",
    "import datetime as dt\n",
    "import math\n",
    "import numpy as np\n",
    "import psycopg2 as pg\n",
    "import psycopg2.extras as pg_extras\n",
    "from psycopg2.extensions import adapt, register_adapter, AsIs\n",
    "import pytz\n",
    "from IPython.display import clear_output"
   ]
  },
  {
   "cell_type": "code",
   "execution_count": null,
   "id": "brilliant-shakespeare",
   "metadata": {},
   "outputs": [],
   "source": [
    "conn = pg.connect('dbname=%s user=%s password=%s' % ('x2542', '<PG USERNAME>', '<PG PASSWORD>'))\n",
    "conn.set_session(autocommit=True)"
   ]
  },
  {
   "cell_type": "code",
   "execution_count": null,
   "id": "turkish-empty",
   "metadata": {},
   "outputs": [],
   "source": [
    "ss_epoch = []\n",
    "ss_yearly = []\n",
    "years = []\n",
    "lats = list(enumerate(np.linspace(-89, 89, 64)))\n",
    "os = [LocationInfo(timezone='UTC', latitude=lat, longitude=0.0).observer for _, lat in lats]"
   ]
  },
  {
   "cell_type": "code",
   "execution_count": null,
   "id": "upset-floor",
   "metadata": {},
   "outputs": [],
   "source": [
    "cur.execute('TRUNCATE locs CASCADE;')\n",
    "for lat_i, lat in lats:\n",
    "    cur.execute('INSERT INTO locs (id, lat, lng) VALUES (%s, %s, %s);', (lat_i, lat, 0))\n",
    "cur.execute('TRUNCATE suns CASCADE;')"
   ]
  },
  {
   "cell_type": "code",
   "execution_count": null,
   "id": "nonprofit-engagement",
   "metadata": {},
   "outputs": [],
   "source": [
    "class Range:\n",
    "    def __init__(self, l, r, lex=False, rex=True):\n",
    "        self.l = l\n",
    "        self.r = r\n",
    "        self.lex = lex\n",
    "        self.rex = rex\n",
    "\n",
    "def adapt_range(r):\n",
    "    exb = ['[', '(']\n",
    "    return AsIs(\"'%s%s, %s%s'\" % ('(' if r.lex else '[', str(adapt(r.l.isoformat()).getquoted(), 'utf-8').strip('\\''), str(adapt(r.r.isoformat()).getquoted(), 'utf-8').strip('\\''), ')' if r.rex else ']')) # wowza that's a pain\n",
    "\n",
    "register_adapter(Range, adapt_range)\n",
    "\n",
    "# never mind use pg.extras.DateTimeRange"
   ]
  },
  {
   "cell_type": "code",
   "execution_count": null,
   "id": "multiple-absolute",
   "metadata": {},
   "outputs": [],
   "source": [
    "last_fall = { lat_i: None for lat_i, _ in lats }\n",
    "for nd in range((dt.date(2030, 1, 1) - dt.date(1970, 1, 1)).days):\n",
    "    d = dt.date(1970, 1, 1) + dt.timedelta(days=nd)\n",
    "#     if len(years) == 0 or d.year != years[-1]:\n",
    "#         years.append(d.year)\n",
    "    clear_output(wait=False)\n",
    "    print(d)\n",
    "    \n",
    "    for (lat_i, lat), o in zip(lats, os):\n",
    "        d_dt = dt.datetime.combine(d, dt.time())\n",
    "        try:\n",
    "            up = sunrise(o, date=d)\n",
    "            down = sunset(o, date=d)\n",
    "#             s += down - up # on second thought let postgres timedelta handle it. might have info on leap seconds and other shenanigans. do the update using window function cumsum grouping first by loc_id then (loc_id, year)\n",
    "        except ValueError as e:\n",
    "            if str(e) in ('Sun never reaches 6.0 degrees below the horizon, at this location.', 'Sun is always above the horizon on this day, at this location.'):\n",
    "                up = d_dt # midnight this day\n",
    "                down = d_dt + dt.timedelta(days=1) # midnight the next day (hopefully includes leap seconds)\n",
    "#                 s += 86400\n",
    "            if str(e) == 'Sun is always below the horizon on this day, at this location.':\n",
    "                up = d_dt # midnight this day\n",
    "                down = d_dt # midnight this day\n",
    "        \n",
    "        if last_fall[lat_i] != None:\n",
    "            cur.execute('INSERT INTO suns (rise, falls, year, loc_id) VALUES (%s, %s::TSRANGE, %s, %s)', (up, Range(last_fall[lat_i], down, False, False), up.year, lat_i))\n",
    "            \n",
    "        last_fall[lat_i] = down"
   ]
  }
 ],
 "metadata": {
  "kernelspec": {
   "display_name": "Python 3",
   "language": "python",
   "name": "python3"
  },
  "language_info": {
   "codemirror_mode": {
    "name": "ipython",
    "version": 3
   },
   "file_extension": ".py",
   "mimetype": "text/x-python",
   "name": "python",
   "nbconvert_exporter": "python",
   "pygments_lexer": "ipython3",
   "version": "3.8.5"
  }
 },
 "nbformat": 4,
 "nbformat_minor": 5
}
